{
 "cells": [
  {
   "cell_type": "code",
   "execution_count": 2,
   "metadata": {},
   "outputs": [],
   "source": [
    "from GPSPhoto import gpsphoto\n",
    "import os"
   ]
  },
  {
   "cell_type": "code",
   "execution_count": 3,
   "metadata": {},
   "outputs": [],
   "source": [
    "#function to output [photo, lat, lon]\n",
    "def getLatLon(photo):\n",
    "    data = gpsphoto.getGPSData(photo)\n",
    "    latitude = data['Latitude']\n",
    "    longitude = data['Longitude']\n",
    "    set = [latitude, longitude]\n",
    "    return set"
   ]
  },
  {
   "cell_type": "code",
   "execution_count": null,
   "metadata": {},
   "outputs": [],
   "source": [
    "fileList = []\n",
    "alexisDirectory = 'C:\\HackOHIO2021\\AEPjpegs'\n",
    "for files in os.listdir(alexisDirectory):\n",
    "    example = alexisDirectory + \"\\\\\" + files\n",
    "    set = getLatLon(example)\n",
    "    name = [files]\n",
    "    table = name + set\n",
    "    print(table)\n"
   ]
  }
 ],
 "metadata": {
  "interpreter": {
   "hash": "32548554213e1290e052a1d0d45375611766bc3a7f60931a9a9c23be009866a2"
  },
  "kernelspec": {
   "display_name": "Python 3.10.0 64-bit",
   "language": "python",
   "name": "python3"
  },
  "language_info": {
   "codemirror_mode": {
    "name": "ipython",
    "version": 3
   },
   "file_extension": ".py",
   "mimetype": "text/x-python",
   "name": "python",
   "nbconvert_exporter": "python",
   "pygments_lexer": "ipython3",
   "version": "3.10.0"
  },
  "orig_nbformat": 4
 },
 "nbformat": 4,
 "nbformat_minor": 2
}
