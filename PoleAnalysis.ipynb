{
 "cells": [
  {
   "cell_type": "code",
   "execution_count": 20,
   "metadata": {},
   "outputs": [],
   "source": [
    "#import \n",
    "import numpy as np "
   ]
  },
  {
   "cell_type": "code",
   "execution_count": null,
   "metadata": {},
   "outputs": [],
   "source": []
  },
  {
   "cell_type": "code",
   "execution_count": 21,
   "metadata": {},
   "outputs": [],
   "source": [
    "#import csv's\n",
    "from numpy import genfromtxt\n",
    "pictureData = genfromtxt('picture.csv', dtype='str', delimiter=',', skip_header=1)"
   ]
  },
  {
   "cell_type": "code",
   "execution_count": 22,
   "metadata": {},
   "outputs": [
    {
     "name": "stderr",
     "output_type": "stream",
     "text": [
      "C:\\Users\\luvpi\\AppData\\Local\\Temp/ipykernel_23264/1924686583.py:3: DeprecationWarning: `np.float` is a deprecated alias for the builtin `float`. To silence this warning, use `float` by itself. Doing this will not modify any behavior and is safe. If you specifically wanted the numpy scalar type, use `np.float64` here.\n",
      "Deprecated in NumPy 1.20; for more details and guidance: https://numpy.org/devdocs/release/1.20.0-notes.html#deprecations\n",
      "  pic_latitude = pic_latitude.astype(np.float)\n",
      "C:\\Users\\luvpi\\AppData\\Local\\Temp/ipykernel_23264/1924686583.py:5: DeprecationWarning: `np.float` is a deprecated alias for the builtin `float`. To silence this warning, use `float` by itself. Doing this will not modify any behavior and is safe. If you specifically wanted the numpy scalar type, use `np.float64` here.\n",
      "Deprecated in NumPy 1.20; for more details and guidance: https://numpy.org/devdocs/release/1.20.0-notes.html#deprecations\n",
      "  pic_longitude = pic_longitude.astype(np.float)\n"
     ]
    }
   ],
   "source": [
    "pic_name = pictureData[:, 1]\n",
    "pic_latitude = pictureData[:, 2]\n",
    "pic_latitude = pic_latitude.astype(np.float)\n",
    "pic_longitude = pictureData[:, 3]\n",
    "pic_longitude = pic_longitude.astype(np.float)\n"
   ]
  },
  {
   "cell_type": "code",
   "execution_count": 23,
   "metadata": {},
   "outputs": [],
   "source": [
    "poleData = genfromtxt('poles.csv', dtype='float', delimiter=',', skip_header=1)\n",
    "pole_Latitude = poleData[:, 1]\n",
    "pole_Longitude = poleData[:, 2]"
   ]
  },
  {
   "cell_type": "code",
   "execution_count": 32,
   "metadata": {},
   "outputs": [
    {
     "name": "stderr",
     "output_type": "stream",
     "text": [
      "C:\\Users\\luvpi\\AppData\\Local\\Temp/ipykernel_23264/480556776.py:12: DeprecationWarning: `np.float` is a deprecated alias for the builtin `float`. To silence this warning, use `float` by itself. Doing this will not modify any behavior and is safe. If you specifically wanted the numpy scalar type, use `np.float64` here.\n",
      "Deprecated in NumPy 1.20; for more details and guidance: https://numpy.org/devdocs/release/1.20.0-notes.html#deprecations\n",
      "  latlong = pictureData[:,2:].astype(np.float)\n"
     ]
    }
   ],
   "source": [
    "\"\"\"testPicture = (pic_latitude[0], pic_longitude[0])\n",
    "from geopy import distance\n",
    "\n",
    "d = []\n",
    "for _,lat,long in poleData:\n",
    "    #print((lat,long))\n",
    "    #print(testPicture)\n",
    "    d.append(distance.distance(testPicture,(lat,long)).km) \n",
    "\n",
    "\"\"\"\n",
    "N = 20\n",
    "latlong = pictureData[:,2:].astype(np.float)\n",
    "sample = np.array(range(N))*50\n",
    "latlong = latlong[sample,:]\n"
   ]
  },
  {
   "cell_type": "code",
   "execution_count": 35,
   "metadata": {},
   "outputs": [
    {
     "name": "stdout",
     "output_type": "stream",
     "text": [
      "(37.945156805555555, -82.64275230555556)\n",
      "(38.070402361111114, -82.60042691666666)\n",
      "(38.02558041666666, -82.69396191666667)\n",
      "(38.02326788888889, -82.68596980555556)\n",
      "(38.18589580555555, -82.75132533333333)\n",
      "(38.18798108333333, -82.73273502777778)\n",
      "(38.14465472222222, -82.69335061111111)\n",
      "(37.92273322222222, -82.51365472222223)\n",
      "(38.27141186111111, -83.05067355555555)\n",
      "(37.99367866666667, -82.51183405555555)\n",
      "(38.00920825, -82.55585855555556)\n",
      "(38.38434433333333, -82.62123133333333)\n",
      "(37.34969797222222, -83.27870383333334)\n",
      "(38.28486844555555, -83.14564252038889)\n",
      "(38.2873147, -83.1596252)\n",
      "(38.1076833, -82.6148403)\n",
      "(38.0553098, -82.587567)\n",
      "(38.0717753, -82.6104921)\n",
      "(38.0948316, -82.6055729)\n",
      "(38.203917, -82.6644999)\n"
     ]
    }
   ],
   "source": [
    "dist = np.zeros((poleData.shape[0],N))\n",
    "for lat, long in latlong:\n",
    "    pole = (lat, long)\n",
    "    "
   ]
  },
  {
   "cell_type": "code",
   "execution_count": 25,
   "metadata": {},
   "outputs": [],
   "source": [
    "\"\"\"sortD = d\n",
    "sortD.sort()"
   ]
  }
 ],
 "metadata": {
  "interpreter": {
   "hash": "32548554213e1290e052a1d0d45375611766bc3a7f60931a9a9c23be009866a2"
  },
  "kernelspec": {
   "display_name": "Python 3.10.0 64-bit",
   "language": "python",
   "name": "python3"
  },
  "language_info": {
   "codemirror_mode": {
    "name": "ipython",
    "version": 3
   },
   "file_extension": ".py",
   "mimetype": "text/x-python",
   "name": "python",
   "nbconvert_exporter": "python",
   "pygments_lexer": "ipython3",
   "version": "3.10.0"
  },
  "orig_nbformat": 4
 },
 "nbformat": 4,
 "nbformat_minor": 2
}
