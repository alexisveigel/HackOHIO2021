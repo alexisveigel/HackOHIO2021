{
 "cells": [
  {
   "cell_type": "code",
   "execution_count": null,
   "metadata": {},
   "outputs": [],
   "source": [
    "from pykml import parser\n",
    "import pandas as pd\n",
    "#import matplotlib.pyplot as plt\n",
    "import numpy as np"
   ]
  },
  {
   "cell_type": "code",
   "execution_count": null,
   "metadata": {},
   "outputs": [],
   "source": [
    "# Path to data folder\n",
    "adnan_path  = 'C:/Users/adnanreddy/Downloads/HOhio/'\n",
    "\n",
    "# Extract Transformers.kmz to file Transformers (I used 7Zip), inside should be doc.kml\n",
    "poles = adnan_path + 'Poles/doc.kml'\n",
    "transformers = adnan_path + 'Transformers/doc.kml'\n",
    "conductors = adnan_path + 'Primary_Conductor/doc.kml'\n",
    "\n",
    "\n",
    "# /Users/hafsagureye/Documents/HOhio"
   ]
  },
  {
   "cell_type": "code",
   "execution_count": null,
   "metadata": {},
   "outputs": [],
   "source": [
    "with open(poles) as f:\n",
    "    docP = parser.parse(f).getroot()\n",
    "\n",
    "namesP = []\n",
    "latP = []\n",
    "longP = []\n",
    "for e in docP.Document.Folder.Placemark:\n",
    "  coor = e.Point.coordinates.text.split(',')\n",
    "  latP.append(coor[0])\n",
    "  longP.append(coor[1])\n",
    "\n",
    "with open(transformers) as f:\n",
    "    docT = parser.parse(f).getroot()\n",
    "\n",
    "namesT = []\n",
    "latT = []\n",
    "longT = []\n",
    "for e in docT.Document.Folder.Placemark:\n",
    "  coor = e.Point.coordinates.text.split(',')\n",
    "  latT.append(coor[0])\n",
    "  longT.append(coor[1])\n",
    "\n",
    "with open(conductors) as f:\n",
    "  docC = parser.parse(f).getroot()\n",
    "\n",
    "namesC = []\n",
    "latC = []\n",
    "longC = []\n",
    "for e in docC.Document.Folder.Placemark:\n",
    "  coor = e.Point.coordinates.text.split(',')\n",
    "  latC.append(coor[0])\n",
    "  longC.append(coor[1])"
   ]
  },
  {
   "cell_type": "code",
   "execution_count": null,
   "metadata": {},
   "outputs": [],
   "source": []
  },
  {
   "cell_type": "code",
   "execution_count": null,
   "metadata": {},
   "outputs": [],
   "source": [
    "lat_numsP = []\n",
    "for x in latP:\n",
    "  lat_numsP.append(float(x))\n",
    "\n",
    "long_numsP = []\n",
    "for x in longP:\n",
    "  long_numsP.append(float(x))\n",
    "\n",
    "lat_numsT = []\n",
    "for x in latT:\n",
    "  lat_numsT.append(float(x))\n",
    "\n",
    "long_numsT = []\n",
    "for x in longT:\n",
    "  long_numsT.append(float(x))\n",
    "\n",
    "lat_numsC = []\n",
    "for x in latC:\n",
    "  lat_numsC.append(float(x))\n",
    "\n",
    "long_numsC = []\n",
    "for x in longC:\n",
    "  long_numsC.append(float(x))"
   ]
  },
  {
   "cell_type": "markdown",
   "metadata": {},
   "source": [
    "df_p = pd.DataFrame()\n",
    "df_p['Latitude'] = lat_numsP\n",
    "df_p['Longitude'] = long_numsP\n",
    "\n",
    "df_t = pd.DataFrame()\n",
    "df_t['Latitude'] = lat_numsP\n",
    "df_t['Longitude'] = long_numsP\n",
    "\n",
    "df_c = pd.DataFrame()\n",
    "df_c['Latitude'] = lat_numsC\n",
    "df_c['Longitude'] = long_numsC\n",
    "\n",
    "df_p.to_csv(path_or_buf='poles.csv')\n",
    "df_t.to_csv(path_or_buf='transformers.csv')\n",
    "df_c.to_csv(path_or_buf='conductors.csv')"
   ]
  }
 ],
 "metadata": {
  "language_info": {
   "name": "python"
  },
  "orig_nbformat": 4
 },
 "nbformat": 4,
 "nbformat_minor": 2
}
