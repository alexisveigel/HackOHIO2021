{
 "cells": [
  {
   "cell_type": "code",
   "execution_count": 2,
   "metadata": {},
   "outputs": [],
   "source": [
    "from GPSPhoto import gpsphoto\n",
    "import pandas as pd\n",
    "import os"
   ]
  },
  {
   "cell_type": "code",
   "execution_count": null,
   "metadata": {},
   "outputs": [],
   "source": [
    "# Adnan's path:\n",
    "path = 'C:\\Users\\adnanreddy\\Downloads\\HOhio'"
   ]
  },
  {
   "cell_type": "code",
   "execution_count": 3,
   "metadata": {},
   "outputs": [],
   "source": [
    "#create function\n",
    "def getLatLon(photo):\n",
    "    data = gpsphoto.getGPSData(photo)\n",
    "    latitude = data['Latitude']\n",
    "    longitude = data['Longitude']\n",
    "    set = [photo, latitude, longitude]\n",
    "    return set"
   ]
  },
  {
   "cell_type": "code",
   "execution_count": 6,
   "metadata": {},
   "outputs": [
    {
     "name": "stdout",
     "output_type": "stream",
     "text": [
      "1.JPG\n"
     ]
    }
   ],
   "source": [
    "coordList = getLatLon('1.JPG')\n",
    "print(coordList[0])\n",
    "\n",
    "for filename in os.listdir(path):\n",
    "    df[]"
   ]
  }
 ],
 "metadata": {
  "interpreter": {
   "hash": "b0597c7ab5a01589d052c5c1c899f8ff4546c3381a016b74f151de4f7905c9cc"
  },
  "kernelspec": {
   "display_name": "Python 3.10.0 64-bit",
   "language": "python",
   "name": "python3"
  },
  "language_info": {
   "codemirror_mode": {
    "name": "ipython",
    "version": 3
   },
   "file_extension": ".py",
   "mimetype": "text/x-python",
   "name": "python",
   "nbconvert_exporter": "python",
   "pygments_lexer": "ipython3",
   "version": "3.10.0"
  },
  "orig_nbformat": 4
 },
 "nbformat": 4,
 "nbformat_minor": 2
}
