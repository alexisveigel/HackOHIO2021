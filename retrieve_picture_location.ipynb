{
 "cells": [
  {
   "cell_type": "code",
   "execution_count": 2,
   "metadata": {},
   "outputs": [],
   "source": [
    "from GPSPhoto import gpsphoto\n",
    "import pandas as pd\n",
    "import os"
   ]
  },
  {
   "cell_type": "code",
   "execution_count": 10,
   "metadata": {},
   "outputs": [],
   "source": [
    "# Adnan's path:\n",
    "path = 'C:/Users/adnanreddy/Downloads/HOhio'"
   ]
  },
  {
   "cell_type": "code",
   "execution_count": 3,
   "metadata": {},
   "outputs": [],
   "source": [
    "#create function\n",
    "def getLatLon(photo):\n",
    "    data = gpsphoto.getGPSData(photo)\n",
    "    latitude = data['Latitude']\n",
    "    longitude = data['Longitude']\n",
    "    set = [photo, latitude, longitude]\n",
    "    return set"
   ]
  },
  {
   "cell_type": "code",
   "execution_count": 42,
   "metadata": {},
   "outputs": [],
   "source": [
    "coordList = getLatLon('1.JPG')\n",
    "# print(coordList[0])\n",
    "\n",
    "\n",
    "df = pd.DataFrame()\n",
    "failed = []\n",
    "name = []\n",
    "latitude = []\n",
    "longitude = []\n",
    "for filename in os.listdir(path):\n",
    "    f = os.path.join(path,filename)\n",
    "    if os.path.isfile(f):\n",
    "        if os.path.splitext(f)[1]=='.JPG':\n",
    "            data = gpsphoto.getGPSData(f)\n",
    "            try:\n",
    "                latitude.append(data['Latitude'])\n",
    "                longitude.append(data['Longitude'])\n",
    "            except:\n",
    "                failed.append(filename)\n",
    "            else:\n",
    "                name.append(filename)"
   ]
  },
  {
   "cell_type": "code",
   "execution_count": 47,
   "metadata": {},
   "outputs": [],
   "source": [
    "df = pd.DataFrame()\n",
    "df['Name'] = name\n",
    "df['Latitude'] = latitude\n",
    "df['Longitue'] = longitude"
   ]
  },
  {
   "cell_type": "code",
   "execution_count": 51,
   "metadata": {},
   "outputs": [],
   "source": [
    "failed_file = open('no_gps_data.txt','w');\n",
    "for fail in failed:\n",
    "    failed_file.write(fail+'\\n')\n",
    "failed_file.close()\n"
   ]
  }
 ],
 "metadata": {
  "interpreter": {
   "hash": "b0597c7ab5a01589d052c5c1c899f8ff4546c3381a016b74f151de4f7905c9cc"
  },
  "kernelspec": {
   "display_name": "Python 3.10.0 64-bit",
   "language": "python",
   "name": "python3"
  },
  "language_info": {
   "codemirror_mode": {
    "name": "ipython",
    "version": 3
   },
   "file_extension": ".py",
   "mimetype": "text/x-python",
   "name": "python",
   "nbconvert_exporter": "python",
   "pygments_lexer": "ipython3",
   "version": "3.10.0"
  },
  "orig_nbformat": 4
 },
 "nbformat": 4,
 "nbformat_minor": 2
}
